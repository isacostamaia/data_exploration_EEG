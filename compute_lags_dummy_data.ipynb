{
 "cells": [
  {
   "cell_type": "code",
   "execution_count": 1,
   "id": "830e0ce3-d19a-4cf0-8abb-04fef6bc32b8",
   "metadata": {},
   "outputs": [],
   "source": [
    "%reload_ext autoreload\n",
    "%autoreload 2"
   ]
  },
  {
   "cell_type": "code",
   "execution_count": 11,
   "id": "efebff12-5383-4630-b189-d53a556a6f00",
   "metadata": {},
   "outputs": [],
   "source": [
    "import numpy as np\n",
    "import mne\n",
    "from data_processing import compute_lags, apply_lags"
   ]
  },
  {
   "cell_type": "code",
   "execution_count": 3,
   "id": "bb8a9931-e1be-4570-9f35-798a4da94181",
   "metadata": {},
   "outputs": [
    {
     "data": {
      "text/plain": [
       "(50,\n",
       " array([ 3,  9, 19,  9,  3,  6,  5, 14, 11,  7, 10,  4,  6,  1, 14,  5,  3,\n",
       "        16,  8,  4,  1,  3, 11,  7,  8,  6, 19,  8,  3, 10,  5,  4,  2, 11,\n",
       "         4,  9,  5,  6, 12, 13,  7,  1,  2, 19, 10, 14,  3,  6,  7,  6]))"
      ]
     },
     "execution_count": 3,
     "metadata": {},
     "output_type": "execute_result"
    }
   ],
   "source": [
    "array = np.random.randint(low=1, high=20, size=70)\n",
    "\n",
    "lags = [3,5,-2,7,-5,4,-1,9,-8,8]\n",
    "E=10\n",
    "central_array_cropped = array[E:len(array)-E]\n",
    "len(central_array_cropped), central_array_cropped"
   ]
  },
  {
   "cell_type": "code",
   "execution_count": 34,
   "id": "9afb3a71-2482-487f-81b3-115344befbed",
   "metadata": {},
   "outputs": [
    {
     "data": {
      "text/plain": [
       "array([15, 10, 14, 13,  1,  8,  6,  4, 12, 11,  3,  9, 19,  9,  3,  6,  5,\n",
       "       14, 11,  7, 10,  4,  6,  1, 14,  5,  3, 16,  8,  4,  1,  3, 11,  7,\n",
       "        8,  6, 19,  8,  3, 10,  5,  4,  2, 11,  4,  9,  5,  6, 12, 13,  7,\n",
       "        1,  2, 19, 10, 14,  3,  6,  7,  6,  8, 11, 10,  1, 15, 14, 13, 19,\n",
       "       19, 10])"
      ]
     },
     "execution_count": 34,
     "metadata": {},
     "output_type": "execute_result"
    }
   ],
   "source": [
    "array"
   ]
  },
  {
   "cell_type": "code",
   "execution_count": 35,
   "id": "928a7915-623d-4fda-90f2-3cebd1fb22e2",
   "metadata": {},
   "outputs": [
    {
     "data": {
      "text/plain": [
       "array([ 9,  3,  6,  5, 14, 11,  7, 10,  4,  6,  1, 14,  5,  3, 16,  8,  4,\n",
       "        1,  3, 11,  7,  8,  6, 19,  8,  3, 10,  5,  4,  2, 11,  4,  9,  5,\n",
       "        6, 12, 13,  7,  1,  2, 19, 10, 14,  3,  6,  7,  6,  8, 11, 10])"
      ]
     },
     "execution_count": 35,
     "metadata": {},
     "output_type": "execute_result"
    }
   ],
   "source": [
    "l=3\n",
    "array[E+l:len(array)-E+l]"
   ]
  },
  {
   "cell_type": "code",
   "execution_count": 21,
   "id": "6cd70ca5-6a33-48da-9657-3c6b6eb37b8f",
   "metadata": {},
   "outputs": [
    {
     "data": {
      "text/plain": [
       "(10, 1, 70)"
      ]
     },
     "execution_count": 21,
     "metadata": {},
     "output_type": "execute_result"
    }
   ],
   "source": [
    "lagged_cropped_arrays = [array[E+l:len(array)-E+l] for l in lags]\n",
    "\n",
    "#stuff the borders with random values\n",
    "lagged_arrays =[np.concatenate([np.random.randint(low=1,high=20, size=E), lga, np.random.randint(low=1,high=20, size=E)]) for lga in lagged_cropped_arrays]\n",
    "\n",
    "#add channel_dim\n",
    "lagged_arrays = [np.expand_dims(la, axis=0) for la in lagged_arrays]\n",
    "\n",
    "lagged_arrays = np.stack(lagged_arrays)\n",
    "lagged_arrays.shape"
   ]
  },
  {
   "cell_type": "code",
   "execution_count": 22,
   "id": "6357e0e7-4726-4751-ad5f-6f30890b3a45",
   "metadata": {},
   "outputs": [
    {
     "data": {
      "text/plain": [
       "(40, 1, 70)"
      ]
     },
     "execution_count": 22,
     "metadata": {},
     "output_type": "execute_result"
    }
   ],
   "source": [
    "central_arrays = np.repeat(np.expand_dims([array], axis=0),repeats=40, axis=0)\n",
    "central_arrays.shape #n_epochs,n_channels,n_times"
   ]
  },
  {
   "cell_type": "code",
   "execution_count": 23,
   "id": "9d42d0eb-1375-42ad-acc2-85ce4dd72d40",
   "metadata": {},
   "outputs": [
    {
     "data": {
      "text/plain": [
       "((50, 1, 70),\n",
       " array([[[15, 10, 14, ..., 19, 19, 10]],\n",
       " \n",
       "        [[15, 10, 14, ..., 19, 19, 10]],\n",
       " \n",
       "        [[15, 10, 14, ..., 19, 19, 10]],\n",
       " \n",
       "        ...,\n",
       " \n",
       "        [[ 5,  9,  6, ...,  2,  9, 16]],\n",
       " \n",
       "        [[14,  9,  9, ...,  4, 15,  4]],\n",
       " \n",
       "        [[ 3, 12, 13, ...,  5,  8,  5]]]))"
      ]
     },
     "execution_count": 23,
     "metadata": {},
     "output_type": "execute_result"
    }
   ],
   "source": [
    "#concatenate centralized and lagged arrays\n",
    "e_ = np.concatenate([central_arrays, lagged_arrays])\n",
    "e_.shape, e_"
   ]
  },
  {
   "cell_type": "code",
   "execution_count": 24,
   "id": "ae08a9a1-f674-4729-b657-f2149315a0d6",
   "metadata": {},
   "outputs": [
    {
     "name": "stdout",
     "output_type": "stream",
     "text": [
      "Not setting metadata\n",
      "50 matching events found\n",
      "No baseline correction applied\n",
      "0 projection items activated\n"
     ]
    }
   ],
   "source": [
    "info_ = mne.create_info(ch_names=1,sfreq = 50)\n",
    "epochs_ = mne.EpochsArray(e_,info_)"
   ]
  },
  {
   "cell_type": "code",
   "execution_count": 42,
   "id": "3e92a609-7d75-4851-bcd7-cc9807efddc9",
   "metadata": {},
   "outputs": [
    {
     "name": "stdout",
     "output_type": "stream",
     "text": [
      "E:  10\n",
      "Iteration num:  0\n"
     ]
    }
   ],
   "source": [
    "# lags_list, cond_hist\n",
    "lags_list, cond_hist = compute_lags(epochs_, similarity=\"covariance\", criteria_sim=\"greatest_local_max\", E=E)         "
   ]
  },
  {
   "cell_type": "code",
   "execution_count": 43,
   "id": "905380e4-70f9-4774-9ed0-98f9962f8d10",
   "metadata": {},
   "outputs": [
    {
     "data": {
      "text/plain": [
       "[0,\n",
       " 0,\n",
       " 0,\n",
       " 0,\n",
       " 0,\n",
       " 0,\n",
       " 0,\n",
       " 0,\n",
       " 0,\n",
       " 0,\n",
       " 0,\n",
       " 0,\n",
       " 0,\n",
       " 0,\n",
       " 0,\n",
       " 0,\n",
       " 0,\n",
       " 0,\n",
       " 0,\n",
       " 0,\n",
       " 0,\n",
       " 0,\n",
       " 0,\n",
       " 0,\n",
       " 0,\n",
       " 0,\n",
       " 0,\n",
       " 0,\n",
       " 0,\n",
       " 0,\n",
       " 0,\n",
       " 0,\n",
       " 0,\n",
       " 0,\n",
       " 0,\n",
       " 0,\n",
       " 0,\n",
       " 0,\n",
       " 0,\n",
       " 0,\n",
       " 3,\n",
       " 5,\n",
       " -2,\n",
       " 7,\n",
       " -5,\n",
       " 4,\n",
       " -1,\n",
       " 9,\n",
       " -8,\n",
       " 8]"
      ]
     },
     "execution_count": 43,
     "metadata": {},
     "output_type": "execute_result"
    }
   ],
   "source": [
    "lags_list"
   ]
  },
  {
   "cell_type": "code",
   "execution_count": 44,
   "id": "d34b165e-65f6-4259-9171-3d48ffe098db",
   "metadata": {},
   "outputs": [
    {
     "data": {
      "text/plain": [
       "([3, 5, -2, 7, -5, 4, -1, 9, -8, 8], [3, 5, -2, 7, -5, 4, -1, 9, -8, 8])"
      ]
     },
     "execution_count": 44,
     "metadata": {},
     "output_type": "execute_result"
    }
   ],
   "source": [
    "lags_list[-10:], lags"
   ]
  },
  {
   "cell_type": "code",
   "execution_count": null,
   "id": "db7d9628-ce10-4b22-bf8b-90d3548ba531",
   "metadata": {},
   "outputs": [],
   "source": []
  }
 ],
 "metadata": {
  "kernelspec": {
   "display_name": "tudim",
   "language": "python",
   "name": "tudim"
  },
  "language_info": {
   "codemirror_mode": {
    "name": "ipython",
    "version": 3
   },
   "file_extension": ".py",
   "mimetype": "text/x-python",
   "name": "python",
   "nbconvert_exporter": "python",
   "pygments_lexer": "ipython3",
   "version": "3.12.7"
  }
 },
 "nbformat": 4,
 "nbformat_minor": 5
}
