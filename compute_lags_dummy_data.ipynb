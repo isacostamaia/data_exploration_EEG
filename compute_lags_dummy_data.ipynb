{
 "cells": [
  {
   "cell_type": "code",
   "execution_count": 1,
   "id": "830e0ce3-d19a-4cf0-8abb-04fef6bc32b8",
   "metadata": {},
   "outputs": [],
   "source": [
    "%reload_ext autoreload\n",
    "%autoreload 2"
   ]
  },
  {
   "cell_type": "code",
   "execution_count": 2,
   "id": "efebff12-5383-4630-b189-d53a556a6f00",
   "metadata": {},
   "outputs": [],
   "source": [
    "import numpy as np\n",
    "import mne\n",
    "from data_processing import compute_lags, apply_lags"
   ]
  },
  {
   "cell_type": "code",
   "execution_count": 3,
   "id": "bb8a9931-e1be-4570-9f35-798a4da94181",
   "metadata": {},
   "outputs": [
    {
     "data": {
      "text/plain": [
       "(50,\n",
       " array([ 2, 17, 17,  3, 10,  8,  1,  2,  6, 19,  8,  2, 19, 19,  4, 16,  4,\n",
       "         5,  3,  8,  1, 18, 18,  9, 10, 18,  6, 15,  4, 13, 18,  6,  3,  3,\n",
       "         4, 17, 16, 13, 18,  9,  3, 15, 15, 19, 10,  1,  5, 14,  2, 18]))"
      ]
     },
     "execution_count": 3,
     "metadata": {},
     "output_type": "execute_result"
    }
   ],
   "source": [
    "array = np.random.randint(low=1, high=20, size=70)\n",
    "\n",
    "lags = [3,5,-2,7,-5,4,-1,9,-8,8]\n",
    "E=10\n",
    "central_array_cropped = array[E:len(array)-E]\n",
    "len(central_array_cropped), central_array_cropped"
   ]
  },
  {
   "cell_type": "code",
   "execution_count": 4,
   "id": "9afb3a71-2482-487f-81b3-115344befbed",
   "metadata": {},
   "outputs": [
    {
     "data": {
      "text/plain": [
       "array([13, 18, 14, 16, 13,  7,  7,  2,  8, 13,  2, 17, 17,  3, 10,  8,  1,\n",
       "        2,  6, 19,  8,  2, 19, 19,  4, 16,  4,  5,  3,  8,  1, 18, 18,  9,\n",
       "       10, 18,  6, 15,  4, 13, 18,  6,  3,  3,  4, 17, 16, 13, 18,  9,  3,\n",
       "       15, 15, 19, 10,  1,  5, 14,  2, 18, 14,  6, 16, 11, 15, 17, 13,  8,\n",
       "       15,  5])"
      ]
     },
     "execution_count": 4,
     "metadata": {},
     "output_type": "execute_result"
    }
   ],
   "source": [
    "array"
   ]
  },
  {
   "cell_type": "code",
   "execution_count": 5,
   "id": "928a7915-623d-4fda-90f2-3cebd1fb22e2",
   "metadata": {},
   "outputs": [
    {
     "data": {
      "text/plain": [
       "array([ 3, 10,  8,  1,  2,  6, 19,  8,  2, 19, 19,  4, 16,  4,  5,  3,  8,\n",
       "        1, 18, 18,  9, 10, 18,  6, 15,  4, 13, 18,  6,  3,  3,  4, 17, 16,\n",
       "       13, 18,  9,  3, 15, 15, 19, 10,  1,  5, 14,  2, 18, 14,  6, 16])"
      ]
     },
     "execution_count": 5,
     "metadata": {},
     "output_type": "execute_result"
    }
   ],
   "source": [
    "l=3\n",
    "array[E+l:len(array)-E+l]"
   ]
  },
  {
   "cell_type": "code",
   "execution_count": 6,
   "id": "6cd70ca5-6a33-48da-9657-3c6b6eb37b8f",
   "metadata": {},
   "outputs": [
    {
     "data": {
      "text/plain": [
       "(10, 1, 70)"
      ]
     },
     "execution_count": 6,
     "metadata": {},
     "output_type": "execute_result"
    }
   ],
   "source": [
    "lagged_cropped_arrays = [array[E+l:len(array)-E+l] for l in lags]\n",
    "\n",
    "#stuff the borders with random values\n",
    "lagged_arrays =[np.concatenate([np.random.randint(low=1,high=20, size=E), lga, np.random.randint(low=1,high=20, size=E)]) for lga in lagged_cropped_arrays]\n",
    "\n",
    "#add channel_dim\n",
    "lagged_arrays = [np.expand_dims(la, axis=0) for la in lagged_arrays]\n",
    "\n",
    "lagged_arrays = np.stack(lagged_arrays)\n",
    "lagged_arrays.shape"
   ]
  },
  {
   "cell_type": "code",
   "execution_count": 7,
   "id": "6357e0e7-4726-4751-ad5f-6f30890b3a45",
   "metadata": {},
   "outputs": [
    {
     "data": {
      "text/plain": [
       "(40, 1, 70)"
      ]
     },
     "execution_count": 7,
     "metadata": {},
     "output_type": "execute_result"
    }
   ],
   "source": [
    "central_arrays = np.repeat(np.expand_dims([array], axis=0),repeats=40, axis=0)\n",
    "central_arrays.shape #n_epochs,n_channels,n_times"
   ]
  },
  {
   "cell_type": "code",
   "execution_count": 8,
   "id": "9d42d0eb-1375-42ad-acc2-85ce4dd72d40",
   "metadata": {},
   "outputs": [
    {
     "data": {
      "text/plain": [
       "((50, 1, 70),\n",
       " array([[[13, 18, 14, ...,  8, 15,  5]],\n",
       " \n",
       "        [[13, 18, 14, ...,  8, 15,  5]],\n",
       " \n",
       "        [[13, 18, 14, ...,  8, 15,  5]],\n",
       " \n",
       "        ...,\n",
       " \n",
       "        [[19,  4,  4, ..., 12, 15,  8]],\n",
       " \n",
       "        [[ 9,  2, 13, ...,  4, 16, 14]],\n",
       " \n",
       "        [[ 1, 13, 19, ...,  2, 19,  1]]]))"
      ]
     },
     "execution_count": 8,
     "metadata": {},
     "output_type": "execute_result"
    }
   ],
   "source": [
    "#concatenate centralized and lagged arrays\n",
    "e_ = np.concatenate([central_arrays, lagged_arrays])\n",
    "e_.shape, e_"
   ]
  },
  {
   "cell_type": "code",
   "execution_count": 9,
   "id": "ae08a9a1-f674-4729-b657-f2149315a0d6",
   "metadata": {},
   "outputs": [
    {
     "name": "stdout",
     "output_type": "stream",
     "text": [
      "Not setting metadata\n",
      "50 matching events found\n",
      "No baseline correction applied\n",
      "0 projection items activated\n"
     ]
    }
   ],
   "source": [
    "info_ = mne.create_info(ch_names=1,sfreq = 50)\n",
    "epochs_ = mne.EpochsArray(e_,info_)"
   ]
  },
  {
   "cell_type": "code",
   "execution_count": 26,
   "id": "3e92a609-7d75-4851-bcd7-cc9807efddc9",
   "metadata": {},
   "outputs": [
    {
     "name": "stdout",
     "output_type": "stream",
     "text": [
      "E:  10\n",
      "Iteration num:  0\n",
      "cavalo\n"
     ]
    }
   ],
   "source": [
    "# lags_list, cond_hist\n",
    "lags_list, cond_hist = compute_lags(epochs_, similarity=\"covariance\", criteria_sim=\"greatest_local_max\", E=E)         "
   ]
  },
  {
   "cell_type": "code",
   "execution_count": 27,
   "id": "905380e4-70f9-4774-9ed0-98f9962f8d10",
   "metadata": {},
   "outputs": [
    {
     "data": {
      "text/plain": [
       "[0,\n",
       " 0,\n",
       " 0,\n",
       " 0,\n",
       " 0,\n",
       " 0,\n",
       " 0,\n",
       " 0,\n",
       " 0,\n",
       " 0,\n",
       " 0,\n",
       " 0,\n",
       " 0,\n",
       " 0,\n",
       " 0,\n",
       " 0,\n",
       " 0,\n",
       " 0,\n",
       " 0,\n",
       " 0,\n",
       " 0,\n",
       " 0,\n",
       " 0,\n",
       " 0,\n",
       " 0,\n",
       " 0,\n",
       " 0,\n",
       " 0,\n",
       " 0,\n",
       " 0,\n",
       " 0,\n",
       " 0,\n",
       " 0,\n",
       " 0,\n",
       " 0,\n",
       " 0,\n",
       " 0,\n",
       " 0,\n",
       " 0,\n",
       " 0,\n",
       " -3,\n",
       " -5,\n",
       " 2,\n",
       " -7,\n",
       " 5,\n",
       " -4,\n",
       " 1,\n",
       " -9,\n",
       " 8,\n",
       " -8]"
      ]
     },
     "execution_count": 27,
     "metadata": {},
     "output_type": "execute_result"
    }
   ],
   "source": [
    "lags_list"
   ]
  },
  {
   "cell_type": "code",
   "execution_count": 28,
   "id": "d34b165e-65f6-4259-9171-3d48ffe098db",
   "metadata": {},
   "outputs": [
    {
     "data": {
      "text/plain": [
       "([-3, -5, 2, -7, 5, -4, 1, -9, 8, -8], [3, 5, -2, 7, -5, 4, -1, 9, -8, 8])"
      ]
     },
     "execution_count": 28,
     "metadata": {},
     "output_type": "execute_result"
    }
   ],
   "source": [
    "lags_list[-10:], lags"
   ]
  },
  {
   "cell_type": "code",
   "execution_count": 29,
   "id": "db7d9628-ce10-4b22-bf8b-90d3548ba531",
   "metadata": {},
   "outputs": [],
   "source": [
    "lagged_epochs_ = apply_lags(epochs_, E, [l for l in lags_list])"
   ]
  },
  {
   "cell_type": "code",
   "execution_count": 30,
   "id": "23455569-916e-4c03-a1c2-cb2b1ea7aab3",
   "metadata": {},
   "outputs": [
    {
     "data": {
      "text/plain": [
       "array([[[ 2., 17., 17., ..., 14.,  2., 18.]],\n",
       "\n",
       "       [[ 2., 17., 17., ..., 14.,  2., 18.]],\n",
       "\n",
       "       [[ 2., 17., 17., ..., 14.,  2., 18.]],\n",
       "\n",
       "       ...,\n",
       "\n",
       "       [[ 4.,  4., 17., ..., 14.,  2., 18.]],\n",
       "\n",
       "       [[ 2., 17., 17., ...,  8.,  2.,  4.]],\n",
       "\n",
       "       [[19., 14., 15., ..., 14.,  2., 18.]]])"
      ]
     },
     "execution_count": 30,
     "metadata": {},
     "output_type": "execute_result"
    }
   ],
   "source": [
    "lagged_epochs_.get_data()"
   ]
  },
  {
   "cell_type": "code",
   "execution_count": 49,
   "id": "0e409407-8405-472f-982f-87f9cf0dcb78",
   "metadata": {},
   "outputs": [
    {
     "data": {
      "text/plain": [
       "array([[ 5.,  7.,  4.,  9.,  1., 18., 10., 12., 17., 15.,  7., 11., 16.,\n",
       "         2.,  9., 12., 10., 13.,  3., 15.,  3., 13., 19.,  2.,  1.,  4.,\n",
       "        18., 10., 11., 12., 11., 17., 11.,  2., 17.,  3., 17., 15.,  8.,\n",
       "        18.,  4.,  8., 18.,  2., 18., 10., 18.,  4.,  4.,  9.]])"
      ]
     },
     "execution_count": 49,
     "metadata": {},
     "output_type": "execute_result"
    }
   ],
   "source": [
    "lagged_epochs_.get_data()[-1]"
   ]
  },
  {
   "cell_type": "code",
   "execution_count": 50,
   "id": "c08262a2-76cb-48c8-8f6e-15036ce5caef",
   "metadata": {},
   "outputs": [
    {
     "data": {
      "text/plain": [
       "array([[ 5.,  7.,  4.,  9.,  1., 18., 10., 12., 17., 15.,  7., 11., 16.,\n",
       "         2.,  9., 12., 10., 13.,  3., 15.,  3., 13., 19.,  2.,  1.,  4.,\n",
       "        18., 10., 11., 12., 11., 17., 11.,  2., 17.,  3., 17., 15.,  8.,\n",
       "        18.,  4.,  8., 18.,  2., 18., 10., 18.,  4.,  4.,  9.]])"
      ]
     },
     "execution_count": 50,
     "metadata": {},
     "output_type": "execute_result"
    }
   ],
   "source": [
    "lagged_epochs_.get_data()[-1]"
   ]
  },
  {
   "cell_type": "code",
   "execution_count": 51,
   "id": "eadad311-27a1-47c5-915c-799f517e5c10",
   "metadata": {},
   "outputs": [
    {
     "data": {
      "text/plain": [
       "array([[ 2, 15, 16, 13,  2, 14, 17, 10, 18, 11, 15, 19, 12, 10, 18,  5,\n",
       "         9, 19,  5,  7,  4,  9,  1, 18, 10, 12, 17, 15,  7, 11, 16,  2,\n",
       "         9, 12, 10, 13,  3, 15,  3, 13, 19,  2,  1,  4, 18, 10, 11, 12,\n",
       "        11, 17, 11,  2, 17,  3, 17, 15,  8, 18,  4,  8, 18,  2, 18, 10,\n",
       "        18,  4,  4,  9,  8,  3]])"
      ]
     },
     "execution_count": 51,
     "metadata": {},
     "output_type": "execute_result"
    }
   ],
   "source": [
    "lagged_arrays[-1]"
   ]
  },
  {
   "cell_type": "code",
   "execution_count": 52,
   "id": "487090be-dc30-4ead-8abc-a54044a371ad",
   "metadata": {},
   "outputs": [
    {
     "data": {
      "text/plain": [
       "array([[19., 10., 10., 18., 11.,  9.,  2.,  8., 15., 19., 12., 10., 18.,\n",
       "         5.,  9., 19.,  5.,  7.,  4.,  9.,  1., 18., 10., 12., 17., 15.,\n",
       "         7., 11., 16.,  2.,  9., 12., 10., 13.,  3., 15.,  3., 13., 19.,\n",
       "         2.,  1.,  4., 18., 10., 11., 12., 11., 17., 11.,  2.]])"
      ]
     },
     "execution_count": 52,
     "metadata": {},
     "output_type": "execute_result"
    }
   ],
   "source": [
    "lagged_epochs_.get_data()[0]"
   ]
  },
  {
   "cell_type": "code",
   "execution_count": 28,
   "id": "4ced2db4-a734-4705-b7a0-1864fbd55c9f",
   "metadata": {},
   "outputs": [
    {
     "data": {
      "text/plain": [
       "50"
      ]
     },
     "execution_count": 28,
     "metadata": {},
     "output_type": "execute_result"
    }
   ],
   "source": [
    "len(lagged_epochs_.get_data()[0].ravel())"
   ]
  },
  {
   "cell_type": "code",
   "execution_count": 32,
   "id": "5e905eea-d27a-4ddc-bd89-2bfbb2f55b3b",
   "metadata": {},
   "outputs": [
    {
     "data": {
      "text/plain": [
       "array([[11,  8, 12,  9,  8, 17,  7, 10, 16, 13,  5, 11, 15, 15, 13,  9,\n",
       "        17,  7, 14,  2, 16,  5, 15,  5, 14,  8, 11,  5,  8, 15,  2,  4,\n",
       "        10,  1, 19, 13,  6, 15, 19,  1, 13, 16,  1,  8,  4,  5, 15,  9,\n",
       "        10, 19,  7,  8,  9, 14,  5,  5, 13, 19,  8,  8,  9,  2, 15,  7,\n",
       "        17, 15, 10,  4,  7, 14]])"
      ]
     },
     "execution_count": 32,
     "metadata": {},
     "output_type": "execute_result"
    }
   ],
   "source": [
    "len(e_[0].ravel())\n",
    "e_[0]"
   ]
  },
  {
   "cell_type": "code",
   "execution_count": 33,
   "id": "ba5ae55d-eee8-48ed-8477-16ada8ad31f0",
   "metadata": {},
   "outputs": [
    {
     "data": {
      "text/plain": [
       "array([ 5, 11, 15, 15, 13,  9, 17,  7, 14,  2, 16,  5, 15,  5, 14,  8, 11,\n",
       "        5,  8, 15,  2,  4, 10,  1, 19, 13,  6, 15, 19,  1, 13, 16,  1,  8,\n",
       "        4,  5, 15,  9, 10, 19,  7,  8,  9, 14,  5,  5, 13, 19,  8,  8])"
      ]
     },
     "execution_count": 33,
     "metadata": {},
     "output_type": "execute_result"
    }
   ],
   "source": [
    "central_array_cropped"
   ]
  },
  {
   "cell_type": "code",
   "execution_count": null,
   "id": "55624f25-4a40-420b-81a3-b9a1be4eca83",
   "metadata": {},
   "outputs": [],
   "source": []
  }
 ],
 "metadata": {
  "kernelspec": {
   "display_name": "tudim",
   "language": "python",
   "name": "tudim"
  },
  "language_info": {
   "codemirror_mode": {
    "name": "ipython",
    "version": 3
   },
   "file_extension": ".py",
   "mimetype": "text/x-python",
   "name": "python",
   "nbconvert_exporter": "python",
   "pygments_lexer": "ipython3",
   "version": "3.12.7"
  }
 },
 "nbformat": 4,
 "nbformat_minor": 5
}
